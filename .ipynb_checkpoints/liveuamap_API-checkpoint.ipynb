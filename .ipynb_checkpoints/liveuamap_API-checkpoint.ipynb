{
 "cells": [
  {
   "cell_type": "code",
   "execution_count": 1,
   "id": "2beecfbc",
   "metadata": {},
   "outputs": [],
   "source": [
    "# Testing the Pro Commercial API for one month starting March 18, 2022\n",
    "# See website for GET request syntax \n",
    "# https://me.liveuamap.com/devapi\n",
    "\n",
    "import requests\n",
    "import json\n",
    "import pandas as pd\n",
    "from pandas.io.json import json_normalize"
   ]
  },
  {
   "cell_type": "code",
   "execution_count": 2,
   "id": "98da95fb",
   "metadata": {},
   "outputs": [],
   "source": [
    "# url = \"https://a.liveuamap.com/api?a=mpts&resid=3&time=1647990314&count=20&key=XXXXXXXXXXXXXXXXXXXX\"\n",
    "# df = pd.read_json(url)\n"
   ]
  },
  {
   "cell_type": "code",
   "execution_count": 3,
   "id": "fe5fafe4",
   "metadata": {},
   "outputs": [],
   "source": [
    "# print(df)"
   ]
  },
  {
   "cell_type": "code",
   "execution_count": 4,
   "id": "7c27ea8d",
   "metadata": {},
   "outputs": [],
   "source": [
    "response = requests.get(\"https://a.liveuamap.com/api?a=mpts&resid=time=1648057435&count=50&key=XXXXXXXXXXXXXXXXXX\")"
   ]
  },
  {
   "cell_type": "code",
   "execution_count": 10,
   "id": "e9a59693",
   "metadata": {},
   "outputs": [],
   "source": [
    "with open('outputfile.geojson', 'wb') as outf:\n",
    "    outf.write(response.content)"
   ]
  },
  {
   "cell_type": "code",
   "execution_count": 5,
   "id": "364a71b5",
   "metadata": {},
   "outputs": [
    {
     "name": "stdout",
     "output_type": "stream",
     "text": [
      "200\n"
     ]
    }
   ],
   "source": [
    "print(response.status_code)"
   ]
  },
  {
   "cell_type": "code",
   "execution_count": 1,
   "id": "1d97bc21",
   "metadata": {
    "scrolled": false
   },
   "outputs": [],
   "source": [
    "def jprint(obj):\n",
    "    # create a formatted string of the Python JSON object\n",
    "    text = json.dumps(obj, sort_keys=True, indent=4)\n",
    "    print(text)\n",
    "\n",
    "# jprint(response.json())"
   ]
  },
  {
   "cell_type": "code",
   "execution_count": null,
   "id": "67d0df14",
   "metadata": {},
   "outputs": [],
   "source": []
  },
  {
   "cell_type": "code",
   "execution_count": 7,
   "id": "011c22f6",
   "metadata": {},
   "outputs": [],
   "source": [
    "liveua_pd = pd.DataFrame(response)"
   ]
  },
  {
   "cell_type": "code",
   "execution_count": 8,
   "id": "aea41def",
   "metadata": {},
   "outputs": [
    {
     "data": {
      "text/html": [
       "<div>\n",
       "<style scoped>\n",
       "    .dataframe tbody tr th:only-of-type {\n",
       "        vertical-align: middle;\n",
       "    }\n",
       "\n",
       "    .dataframe tbody tr th {\n",
       "        vertical-align: top;\n",
       "    }\n",
       "\n",
       "    .dataframe thead th {\n",
       "        text-align: right;\n",
       "    }\n",
       "</style>\n",
       "<table border=\"1\" class=\"dataframe\">\n",
       "  <thead>\n",
       "    <tr style=\"text-align: right;\">\n",
       "      <th></th>\n",
       "      <th>0</th>\n",
       "    </tr>\n",
       "  </thead>\n",
       "  <tbody>\n",
       "    <tr>\n",
       "      <th>0</th>\n",
       "      <td>b'{\"success\":true,\"key\":\"a6e29bbf12b54cf6b76c5...</td>\n",
       "    </tr>\n",
       "    <tr>\n",
       "      <th>1</th>\n",
       "      <td>b'\":\"The Kremlin: Putin and Scholz discussed t...</td>\n",
       "    </tr>\n",
       "    <tr>\n",
       "      <th>2</th>\n",
       "      <td>b'lor_id\":2,\"time\":\"38 minute ago\",\"pics\":[],\"...</td>\n",
       "    </tr>\n",
       "    <tr>\n",
       "      <th>3</th>\n",
       "      <td>b'69078456324\",\"picpath\":\"https:\\\\/\\\\/a.liveua...</td>\n",
       "    </tr>\n",
       "    <tr>\n",
       "      <th>4</th>\n",
       "      <td>b'ype_id\":1,\"lat\":\"55.74992\",\"lng\":\"37.61839\",...</td>\n",
       "    </tr>\n",
       "  </tbody>\n",
       "</table>\n",
       "</div>"
      ],
      "text/plain": [
       "                                                   0\n",
       "0  b'{\"success\":true,\"key\":\"XXXXXXX...\n",
       "1  b'\":\"The Kremlin: Putin and Scholz discussed t...\n",
       "2  b'lor_id\":2,\"time\":\"38 minute ago\",\"pics\":[],\"...\n",
       "3  b'69078456324\",\"picpath\":\"https:\\\\/\\\\/a.liveua...\n",
       "4  b'ype_id\":1,\"lat\":\"55.74992\",\"lng\":\"37.61839\",..."
      ]
     },
     "execution_count": 8,
     "metadata": {},
     "output_type": "execute_result"
    }
   ],
   "source": [
    "liveua_pd.head()"
   ]
  },
  {
   "cell_type": "code",
   "execution_count": null,
   "id": "5108dd82",
   "metadata": {},
   "outputs": [],
   "source": [
    "# def jprint(obj):\n",
    "    # create a formatted string of the Python JSON object\n",
    "#     text = json.dumps(obj, sort_keys=True, indent=4)\n",
    "#     print(text)\n",
    "\n",
    "# jprint(response.json())"
   ]
  },
  {
   "cell_type": "code",
   "execution_count": null,
   "id": "610e5abe",
   "metadata": {},
   "outputs": [],
   "source": [
    "# s = response.json()\n",
    "# df = pd.read_json(s)\n",
    "# print(df)"
   ]
  },
  {
   "cell_type": "code",
   "execution_count": null,
   "id": "d7cf51a6",
   "metadata": {},
   "outputs": [],
   "source": [
    "print(json.dumps(response, indent=4, sort_keys=True))"
   ]
  },
  {
   "cell_type": "code",
   "execution_count": null,
   "id": "58f60ed0",
   "metadata": {},
   "outputs": [],
   "source": []
  }
 ],
 "metadata": {
  "kernelspec": {
   "display_name": "Python 3",
   "language": "python",
   "name": "python3"
  },
  "language_info": {
   "codemirror_mode": {
    "name": "ipython",
    "version": 3
   },
   "file_extension": ".py",
   "mimetype": "text/x-python",
   "name": "python",
   "nbconvert_exporter": "python",
   "pygments_lexer": "ipython3",
   "version": "3.6.13"
  }
 },
 "nbformat": 4,
 "nbformat_minor": 5
}
